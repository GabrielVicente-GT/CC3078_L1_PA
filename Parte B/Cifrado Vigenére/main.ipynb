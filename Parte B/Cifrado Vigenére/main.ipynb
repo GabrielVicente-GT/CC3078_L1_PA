{
 "cells": [
  {
   "cell_type": "code",
   "execution_count": 4,
   "metadata": {},
   "outputs": [
    {
     "name": "stdout",
     "output_type": "stream",
     "text": [
      "Key: A\n",
      "Decrypted Text: DYEFESJKBCFSSXSDPPISSVERPOELFWMFUMSIFVHAESEUFTXHRYIQBQEVBTSVSMELBOZSSOSDBW\n",
      "IDWETHEIVHTEHWHYEMFPEDBOSZBFMSBTVWTEHHJPTDBGETMICVFJMFJXMÃ‘BEQMFWYAHQSKBQGA\n",
      "BXSIPKVSGMGSTIWWÃ‘XSUPQXKBQUNJOMVBHEWTTIKBVOSNYIKUIUNJWSEPVMKBOOATMQFJQKNÃ‘E\n",
      "ILQIVSÃ‘DESJWOSESGHÃ‘IOIFQWSNMIFUSJAKSIFMEILQERSEMWMBQXWQEVMJGYDBVPWÃ‘XIWÃ‘IOU\n",
      "PQZWÃ‘XSVFOSLBFVHKSWVPQHWDEVDPWUNJQXHDSQVFWGWÃ‘HMWSEYFBZIRBFEBBVHWTYIEJQIFDM\n",
      "EIBVEVFGMKMIUNFGSFGMETBIQWMGIDPVIDJKMHTSHWTYOSCSVKFHIFUSVSBOHWTTIKUEVLFIQU\n",
      "PQXKPVSVFEHHQSVNÃ‘KVNQSHWJQHAHIQSTHIKPWXKPMPIBWMTMIUNFWIVJWTHÃ‘MEFBWEUSMJADE\n",
      "VDPEQMFYQSMXEKVQEDUEVJVIETBVXHMSPWMITSSIGAPGSEPIODFGLHFQUNFHILDEQLBVMSBOJA\n",
      "Ã‘HILVWXWNSVWTHILVHILUMQHEIWANMWEPXVWTERHTIQWMTEATOIZBFMSÃ‘GSFGIVAESYFNIHABQ\n",
      "SVPPMFJSHWMEWDFQKNBWQSUMZSTMQMFQXHBOKHEMNHBOKNÃ‘EWIBOETSEWJVIJNFVSFDSPISIQV\n",
      "JHELFQXHÃ‘GILGOSKFGMHFQIDVQEAEIEJVIXNWSTHSHMYÃ‘EHWTYXSMIQMPCHWTYGNMXYKBYQAWI\n",
      "VLBOCVFWYSSHYHDSQHDMPAFQXHEIEKJWXHUIOWTVIUPVHHRYIIBVEWTIHABWIWTTIKBFENÃ‘IGD\n",
      "JTWWUSXSMHILPOCVJWTNTSIFMSPSTMQMJPSÃ‘BOIKTIHWBUYWMGSFPGMEJIQMPTEKBIQYBREKBW\n",
      "YLPTVWTSVWTCWSMZEKMEZAEEWANIPSUEMLMIWVJNSIVIHHIEGWSUYWFOWHMWIHTGYKFDGSFQWN\n",
      "BOXNSEOHTMQVJKIFBWOHNMVSSSQXJNEEFQXWZFEKUSOHNIWHSTVWÃ‘HMHMEMFDVIVVOMVBHIFTY\n",
      "WHKSWÃ‘JSUNFWIISSHNKSYFQIUNFRSUPQWWKSCWTTIKPGSFGMEVPQSLJQGAFVXHEIWVFQHHTLSK\n",
      "BWHWTTYWTIOUPVERPQHWGVEQCEVMPOSEFEVKBDSDBGLHSVISCEWNTEQYSIZWIIPWÃ‘XILPFVWME\n",
      "TAFHVSEIOHTWEUSMJADMSLCVMDMEQMFFEBPOEHQEGSMYDVFYQLPOIUMMTLBHSEJIQMSEWNÃ‘SHW\n",
      "MSWAÃ‘HMYFQELSIGAUEFSTMQFJQKNÃ‘EMFGOIPJSQVFZSRTMQISMWSVQEIPVYFBOELJQJAÃ‘MXSTJ\n",
      "IUIEWWÃ‘UYWTITKPHYUJVMSÃ‘IGDJTWWTWSDBVILZOYFBVILRYIDPWELUVSFPPSLEIOSDSPNÃ‘MHS\n",
      "EPEQBLETJEQISIZATXSQBQSMBHSWÃ‘WYLDSHADIWLJQOSWEOAPWESZYHSEIEKJWXHUIOWT\n",
      "\n"
     ]
    }
   ],
   "source": [
    "import itertools\n",
    "\n",
    "def vigenere_decrypt(ciphertext, key, alphabet):\n",
    "    decrypted_text = \"\"\n",
    "    key_length = len(key)\n",
    "    for i in range(len(ciphertext)):\n",
    "        if ciphertext[i] in alphabet:\n",
    "            cipher_char_index = alphabet.index(ciphertext[i])\n",
    "            key_char_index = alphabet.index(key[i % key_length])\n",
    "            decrypted_index = (cipher_char_index - key_char_index) % len(alphabet)\n",
    "            decrypted_text += alphabet[decrypted_index]\n",
    "        else:\n",
    "            decrypted_text += ciphertext[i]\n",
    "    return decrypted_text\n",
    "\n",
    "def brute_force_vigenere(ciphertext, alphabet, max_key_length):\n",
    "    for key_length in range(1, max_key_length + 1):\n",
    "        for possible_key in itertools.product(alphabet, repeat=key_length):\n",
    "            key = ''.join(possible_key)\n",
    "            decrypted_text = vigenere_decrypt(ciphertext, key, alphabet)\n",
    "            print(f\"Key: {key}\\nDecrypted Text: {decrypted_text}\\n\")\n",
    "\n",
    "# Lee el archivo cifrado\n",
    "file_path = \"cipher3.txt\"\n",
    "try:\n",
    "    with open(file_path, \"r\") as file:\n",
    "        ciphertext = file.read().upper()\n",
    "except FileNotFoundError:\n",
    "    print(f\"Error: File '{file_path}' not found.\")\n",
    "except Exception as e:\n",
    "    print(f\"Error: {e}\")\n",
    "\n",
    "# Define el alfabeto\n",
    "alphabet = \"ABCDEFGHIJKLMNÑOPQRSTUVWXYZ\"\n",
    "\n",
    "# Especifica la longitud máxima de la clave a probar\n",
    "max_key_length = 5\n",
    "\n",
    "# Intenta romper el cifrado Vigenère por fuerza bruta con claves de hasta 5 caracteres\n",
    "brute_force_vigenere(ciphertext, alphabet, max_key_length)\n"
   ]
  },
  {
   "cell_type": "code",
   "execution_count": 3,
   "metadata": {},
   "outputs": [
    {
     "name": "stdout",
     "output_type": "stream",
     "text": [
      "Clave: A\n",
      "Texto Descifrado: DYEFESJKBCFSSXSDPPISSVERPOELFWMFUMSIFVHAESEUFTXHRYIQBQEVBTSVSMELBOZSSOSDBWIDWETHEIVHTEHWHYEMFPEDBOSZBFMSBTVWTEHHJPTDBGETMICVFJMFJXMÃ‘BEQMFWYAHQSKBQGABXSIPKVSGMGSTIWWÃ‘XSUPQXKBQUNJOMVBHEWTTIKBVOSNYIKUIUNJWSEPVMKBOOATMQFJQKNÃ‘EILQIVSÃ‘DESJWOSESGHÃ‘IOIFQWSNMIFUSJAKSIFMEILQERSEMWMBQXWQEVMJGYDBVPWÃ‘XIWÃ‘IOUPQZWÃ‘XSVFOSLBFVHKSWVPQHWDEVDPWUNJQXHDSQVFWGWÃ‘HMWSEYFBZIRBFEBBVHWTYIEJQIFDMEIBVEVFGMKMIUNFGSFGMETBIQWMGIDPVIDJKMHTSHWTYOSCSVKFHIFUSVSBOHWTTIKUEVLFIQUPQXKPVSVFEHHQSVNÃ‘KVNQSHWJQHAHIQSTHIKPWXKPMPIBWMTMIUNFWIVJWTHÃ‘MEFBWEUSMJADEVDPEQMFYQSMXEKVQEDUEVJVIETBVXHMSPWMITSSIGAPGSEPIODFGLHFQUNFHILDEQLBVMSBOJAÃ‘HILVWXWNSVWTHILVHILUMQHEIWANMWEPXVWTERHTIQWMTEATOIZBFMSÃ‘GSFGIVAESYFNIHABQSVPPMFJSHWMEWDFQKNBWQSUMZSTMQMFQXHBOKHEMNHBOKNÃ‘EWIBOETSEWJVIJNFVSFDSPISIQVJHELFQXHÃ‘GILGOSKFGMHFQIDVQEAEIEJVIXNWSTHSHMYÃ‘EHWTYXSMIQMPCHWTYGNMXYKBYQAWIVLBOCVFWYSSHYHDSQHDMPAFQXHEIEKJWXHUIOWTVIUPVHHRYIIBVEWTIHABWIWTTIKBFENÃ‘IGDJTWWUSXSMHILPOCVJWTNTSIFMSPSTMQMJPSÃ‘BOIKTIHWBUYWMGSFPGMEJIQMPTEKBIQYBREKBWYLPTVWTSVWTCWSMZEKMEZAEEWANIPSUEMLMIWVJNSIVIHHIEGWSUYWFOWHMWIHTGYKFDGSFQWNBOXNSEOHTMQVJKIFBWOHNMVSSSQXJNEEFQXWZFEKUSOHNIWHSTVWÃ‘HMHMEMFDVIVVOMVBHIFTYWHKSWÃ‘JSUNFWIISSHNKSYFQIUNFRSUPQWWKSCWTTIKPGSFGMEVPQSLJQGAFVXHEIWVFQHHTLSKBWHWTTYWTIOUPVERPQHWGVEQCEVMPOSEFEVKBDSDBGLHSVISCEWNTEQYSIZWIIPWÃ‘XILPFVWMETAFHVSEIOHTWEUSMJADMSLCVMDMEQMFFEBPOEHQEGSMYDVFYQLPOIUMMTLBHSEJIQMSEWNÃ‘SHWMSWAÃ‘HMYFQELSIGAUEFSTMQFJQKNÃ‘EMFGOIPJSQVFZSRTMQISMWSVQEIPVYFBOELJQJAÃ‘MXSTJIUIEWWÃ‘UYWTITKPHYUJVMSÃ‘IGDJTWWTWSDBVILZOYFBVILRYIDPWELUVSFPPSLEIOSDSPNÃ‘MHSEPEQBLETJEQISIZATXSQBQSMBHSWÃ‘WYLDSHADIWLJQOSWEOAPWESZYHSEIEKJWXHUIOWT\n",
      "\n"
     ]
    }
   ],
   "source": [
    "def vigenere_decrypt_with_key(ciphertext, key, alphabet):\n",
    "    decrypted_text = \"\"\n",
    "    key_length = len(key)\n",
    "    for i in range(len(ciphertext)):\n",
    "        if ciphertext[i] in alphabet:\n",
    "            cipher_char_index = alphabet.index(ciphertext[i])\n",
    "            key_char_index = alphabet.index(key[i % key_length])\n",
    "            decrypted_index = (cipher_char_index - key_char_index) % len(alphabet)\n",
    "            decrypted_text += alphabet[decrypted_index]\n",
    "        else:\n",
    "            decrypted_text += ciphertext[i]\n",
    "    return decrypted_text\n",
    "\n",
    "# Lee el archivo cifrado\n",
    "file_path = \"cipher3.txt\"\n",
    "try:\n",
    "    with open(file_path, \"r\") as file:\n",
    "        ciphertext = file.read().upper()\n",
    "except FileNotFoundError:\n",
    "    print(f\"Error: File '{file_path}' not found.\")\n",
    "except Exception as e:\n",
    "    print(f\"Error: {e}\")\n",
    "\n",
    "# Define el alfabeto\n",
    "alphabet = \"ABCDEFGHIJKLMNÑOPQRSTUVWXYZ\"\n",
    "\n",
    "# Define la clave para descifrar (en este caso, la clave \"S\")\n",
    "decryption_key = \"\"\n",
    "\n",
    "# Descifra el mensaje usando la clave \"S\"\n",
    "decrypted_text = vigenere_decrypt_with_key(ciphertext, decryption_key, alphabet)\n",
    "\n",
    "# Imprime el resultado\n",
    "print(f\"Clave: {decryption_key}\\nTexto Descifrado: {decrypted_text}\\n\")\n"
   ]
  },
  {
   "cell_type": "code",
   "execution_count": null,
   "metadata": {},
   "outputs": [],
   "source": []
  }
 ],
 "metadata": {
  "kernelspec": {
   "display_name": "Python 3",
   "language": "python",
   "name": "python3"
  },
  "language_info": {
   "codemirror_mode": {
    "name": "ipython",
    "version": 3
   },
   "file_extension": ".py",
   "mimetype": "text/x-python",
   "name": "python",
   "nbconvert_exporter": "python",
   "pygments_lexer": "ipython3",
   "version": "3.10.11"
  }
 },
 "nbformat": 4,
 "nbformat_minor": 2
}
